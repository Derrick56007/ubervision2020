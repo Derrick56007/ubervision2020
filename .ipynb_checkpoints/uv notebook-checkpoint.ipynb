{
 "cells": [
  {
   "cell_type": "code",
   "execution_count": 1,
   "metadata": {},
   "outputs": [],
   "source": [
    "%load_ext autoreload\n",
    "%autoreload 2"
   ]
  },
  {
   "cell_type": "code",
   "execution_count": 2,
   "metadata": {},
   "outputs": [],
   "source": [
    "import pandas as pd"
   ]
  },
  {
   "cell_type": "code",
   "execution_count": null,
   "metadata": {},
   "outputs": [],
   "source": [
    "date_ranges = [\n",
    "    \"1/1/2019 - 3/31/2019, Every day, Daily Average\",\n",
    "    \"4/1/2019 - 6/30/2019, Every day, Daily Average\",\n",
    "]\n",
    "\n",
    "bart_names = [\n",
    "    \"Embarcadero, San Francisco, CA\", \n",
    "    \"2nd Street and Stevenson Street (Montgomery BART, San Francisco, CA\",\n",
    "    \"Powell BART Station, Market St and Powell St, San Francisco, CA\"\n",
    "]\n",
    "\n",
    "hotspot_names = [\n",
    "    \"Fisherman's Wharf, San Francisco, CA\",\n",
    "    \"Oracle Park, 24 Willie Mays Plaza, San Francisco, CA\",\n",
    "    \"The Palace Of Fine Arts, 3601 Lyon St, San Francisco, CA\"\n",
    "]\n",
    "\n",
    "times_of_day = ['AM', 'PM', 'Midday', 'Evening', 'Early Morning']"
   ]
  },
  {
   "cell_type": "code",
   "execution_count": 3,
   "metadata": {},
   "outputs": [],
   "source": [
    "\n",
    "def get_df_from_date_range(df, date):\n",
    "    return df[df['Date Range'] == date]\n",
    "\n",
    "\n",
    "barts_to_all = pd.read_csv(\"data/barts_to_all.csv\")\n",
    "\n",
    "# dfs_by_date = [get_df_from_date_range(barts_to_all, date) for date in date_ranges]"
   ]
  },
  {
   "cell_type": "code",
   "execution_count": 4,
   "metadata": {},
   "outputs": [],
   "source": [
    "def get_bart_to_hotspots(df, bart_names, hotspot_names):\n",
    "\n",
    "    temp = df[df['Origin Display Name'].isin(bart_names)]\n",
    "    \n",
    "    return temp[temp['Destination Display Name'].isin(hotspot_names)]\n",
    "\n",
    "barts_hotspots = pd.read_csv(\"data/barts_hotspots.csv\")\n",
    "\n",
    "only_barts_to_hotspot = get_bart_to_hotspots(barts_hotspots, bart_names, hotspot_names)"
   ]
  },
  {
   "cell_type": "code",
   "execution_count": 9,
   "metadata": {},
   "outputs": [
    {
     "data": {
      "text/plain": [
       "2067    Embarcadero, San Francisco, CA\n",
       "Name: Origin Display Name, dtype: object"
      ]
     },
     "execution_count": 9,
     "metadata": {},
     "output_type": "execute_result"
    }
   ],
   "source": [
    "def get_week_day_from_date(date):\n",
    "    # returns weekday as int\n",
    "    \n",
    "    import datetime\n",
    "    \n",
    "    split = date.split(\"/\")\n",
    "    \n",
    "    year = int(split[-1])\n",
    "    day = int(split[0])\n",
    "    month = int(split[1])\n",
    "    \n",
    "    return datetime.datetime(year, day, month).weekday()\n",
    "\n",
    "def bart_recommendation(only_barts_to_hotspot, hotspot, weekday, time_of_day):\n",
    "    # get recom by date and time\n",
    "    transform_dates_to_weekdays = only_barts_to_hotspot\n",
    "    transform_dates_to_weekdays['Week Day'] = transform_dates_to_weekdays['Date'].apply(get_week_day_from_date)\n",
    "    \n",
    "    barts_to_hotspot_specific_weekday = transform_dates_to_weekdays[transform_dates_to_weekdays['Week Day'] == weekday]\n",
    "    barts_to_hotspot_specific_weekday = barts_to_hotspot_specific_weekday[barts_to_hotspot_specific_weekday['Destination Display Name'] == hotspot]    \n",
    "    barts_to_hotspot_specific_weekday = barts_to_hotspot_specific_weekday[barts_to_hotspot_specific_weekday[time_of_day + ' Mean Travel Time (Seconds)'] == barts_to_hotspot_specific_weekday[time_of_day + ' Mean Travel Time (Seconds)'].min()]\n",
    "    \n",
    "    return barts_to_hotspot_specific_weekday['Origin Display Name']\n",
    "    \n",
    "bart_recommendation(only_barts_to_hotspot, \"Fisherman's Wharf, San Francisco, CA\", 0, 'AM')"
   ]
  },
  {
   "cell_type": "code",
   "execution_count": 15,
   "metadata": {},
   "outputs": [
    {
     "data": {
      "text/plain": [
       "(3258, 23)"
      ]
     },
     "execution_count": 15,
     "metadata": {},
     "output_type": "execute_result"
    }
   ],
   "source": [
    "barts_hotspots.shape"
   ]
  },
  {
   "cell_type": "code",
   "execution_count": null,
   "metadata": {},
   "outputs": [],
   "source": [
    "# part 1.2\n",
    "# Compare and contrast travel times between different BART stations and Hotspots based on these factors: time of day, day of the week, and the direction of travel. \n",
    "# a. Consider restructuring the data on the basis of some of the previously listed factors.\n",
    "\n",
    "def compare_and_contrast_bart_to_different_hotspots_by_time_of_day(bart_name, hotspots):\n",
    "    \n",
    "    \n",
    "    "
   ]
  }
 ],
 "metadata": {
  "kernelspec": {
   "display_name": "Python 3",
   "language": "python",
   "name": "python3"
  },
  "language_info": {
   "codemirror_mode": {
    "name": "ipython",
    "version": 3
   },
   "file_extension": ".py",
   "mimetype": "text/x-python",
   "name": "python",
   "nbconvert_exporter": "python",
   "pygments_lexer": "ipython3",
   "version": "3.7.3"
  }
 },
 "nbformat": 4,
 "nbformat_minor": 2
}
